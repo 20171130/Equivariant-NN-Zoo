{
 "cells": [
  {
   "cell_type": "code",
   "execution_count": null,
   "metadata": {},
   "outputs": [],
   "source": [
    "import pdb"
   ]
  },
  {
   "cell_type": "markdown",
   "metadata": {},
   "source": [
    "# Read Data"
   ]
  },
  {
   "cell_type": "code",
   "execution_count": null,
   "metadata": {},
   "outputs": [],
   "source": [
    "import numpy as np\n",
    "import torch\n",
    "import e3nn\n",
    "\n",
    "torch.set_default_dtype(torch.float64)\n",
    "np.set_printoptions(precision=3, suppress=True)\n",
    "\n",
    "data = np.load(\"h2o_hamiltonians.npy\", allow_pickle=True)\n",
    "data_dict = data.item()\n",
    "\n",
    "geometry = torch.from_numpy(data_dict[\"positions\"]).type(\n",
    "    torch.float64\n",
    ")  # batch, atom, xyz\n",
    "hamiltonians = torch.from_numpy(data_dict[\"hamiltonians\"]).type(torch.float64)\n",
    "\n",
    "hamiltonians.shape"
   ]
  },
  {
   "cell_type": "markdown",
   "metadata": {},
   "source": [
    "## Parse the output of ORCA"
   ]
  },
  {
   "cell_type": "code",
   "execution_count": null,
   "metadata": {},
   "outputs": [],
   "source": [
    "import torch\n",
    "import pdb\n",
    "\n",
    "cnt = 20\n",
    "geometry = torch.zeros((cnt, 3, 3))\n",
    "H = torch.zeros(cnt, 24, 24)\n",
    "for i in range(cnt):\n",
    "    with open(f\"water_new/water_{i}_property.txt\") as f:\n",
    "        lines = f.readlines()[59:62]\n",
    "        for j in range(3):\n",
    "            for k in range(3):\n",
    "                line = lines[j].split(' ')\n",
    "                line = [item for item in line if not item == '']\n",
    "                geometry[i, j, k] = float(line[2+k])\n",
    "    with open(f'water_new/water_{i}.out') as f:\n",
    "        lines = f.readlines()\n",
    "        for j, line in enumerate(lines):\n",
    "            if \"Energy Check signals convergence\" in line:\n",
    "                break\n",
    "        end = j\n",
    "        for j in range(24):\n",
    "            for k in range(24):\n",
    "                row = end - (24-j) - 25*(3 - k//6)\n",
    "                col = 1 + k%6\n",
    "                line = lines[row].split(' ')\n",
    "                line = [item for item in line if not item == '']\n",
    "                H[i, j, k] = float(line[col])     \n",
    "                \n",
    "geometry = geometry.type(torch.float64)\n",
    "hamiltonians = H.type(torch.float64)"
   ]
  },
  {
   "cell_type": "markdown",
   "metadata": {},
   "source": [
    "## Parse hdf5"
   ]
  },
  {
   "cell_type": "code",
   "execution_count": 19,
   "metadata": {},
   "outputs": [],
   "source": [
    "path  = 'h2o_notransform.hdf5'\n",
    "import h5py\n",
    "import torch\n",
    "f = h5py.File(path, \"r\")\n",
    "indices = [1113, 2145, 2702, 4229, 4870]\n",
    "indices = [i for i in range(4999)]\n",
    "geometry = torch.tensor(f['coord'][indices]).type(torch.float64)\n",
    "hamiltonians = torch.tensor(f['hamiltonian'][indices]).type(torch.float64).view(-1, 24, 24)\n",
    "f.close()"
   ]
  },
  {
   "cell_type": "code",
   "execution_count": null,
   "metadata": {},
   "outputs": [],
   "source": [
    "import numpy as np\n",
    "import e3nn\n",
    "\n",
    "\n",
    "def null_space(A: np.ndarray, *, epsilon=1e-4, round_fn=lambda x: x) -> np.ndarray:\n",
    "    r\"\"\"\n",
    "    Compute the null space of a matrix.\n",
    "\n",
    "    .. math::\n",
    "        \\mathbf{A} \\mathbf{X}^T = 0\n",
    "\n",
    "    Args:\n",
    "        A: Matrix to compute null space of.\n",
    "        epsilon: The tolerance for the eigenvalue.\n",
    "\n",
    "    Returns:\n",
    "        The null space of A.\n",
    "    \"\"\"\n",
    "    assert A.ndim == 2, \"Null space only works for matrices.\"\n",
    "    assert A.dtype in [\n",
    "        np.float64,\n",
    "        np.complex128,\n",
    "    ], \"Null space only works for float64 matrices.\"\n",
    "\n",
    "    # Q, R = np.linalg.qr(A.T)\n",
    "    # # assert np.allclose(R.T @ Q.T, S)\n",
    "    # X = Q.T[np.abs(np.diag(R)) < epsilon]\n",
    "    # X = np.conj(X)\n",
    "\n",
    "    A = np.conj(A.T) @ A\n",
    "    A = round_fn(A)\n",
    "    val, vec = np.linalg.eigh(A)\n",
    "    X = vec.T[np.abs(val) < epsilon]\n",
    "    X = np.conj(X.T) @ X\n",
    "    X = round_fn(X)\n",
    "    X = gram_schmidt(X, round_fn=round_fn)\n",
    "    return X\n",
    "\n",
    "\n",
    "def gram_schmidt(A: np.ndarray, *, epsilon=1e-4, round_fn=lambda x: x) -> np.ndarray:\n",
    "    \"\"\"\n",
    "    Orthogonalize a matrix using the Gram-Schmidt process.\n",
    "    \"\"\"\n",
    "    assert A.ndim == 2, \"Gram-Schmidt process only works for matrices.\"\n",
    "    assert A.dtype in [\n",
    "        np.float64,\n",
    "        np.complex128,\n",
    "    ], \"Gram-Schmidt process only works for float64 matrices.\"\n",
    "    Q = []\n",
    "    for i in range(A.shape[0]):\n",
    "        v = A[i]\n",
    "        for w in Q:\n",
    "            v -= np.dot(np.conj(w), v) * w\n",
    "        norm = np.linalg.norm(v)\n",
    "        if norm > epsilon:\n",
    "            v = round_fn(v / norm)\n",
    "            Q += [v]\n",
    "    return np.stack(Q) if len(Q) > 0 else np.empty((0, A.shape[1]))"
   ]
  },
  {
   "cell_type": "code",
   "execution_count": null,
   "metadata": {},
   "outputs": [],
   "source": [
    "# distance_matrix = (geometry.unsqueeze(1) - geometry.unsqueeze(2)).norm(2, -1)\n",
    "# diff_norm = (distance_matrix.unsqueeze(0) - distance_matrix.unsqueeze(1)).norm(2, -1).norm(2, -1)"
   ]
  },
  {
   "cell_type": "code",
   "execution_count": null,
   "metadata": {},
   "outputs": [],
   "source": [
    "# greater_than_zero = (diff_norm > 1e-12).nonzero()\n",
    "# greater_than_zero"
   ]
  },
  {
   "cell_type": "code",
   "execution_count": null,
   "metadata": {},
   "outputs": [],
   "source": [
    "# same = (diff_norm[greater_than_zero[:, 0], greater_than_zero[:, 1]] < 1e-3).nonzero()\n",
    "# same = greater_than_zero[same][0].squeeze()\n",
    "# # print(same)\n",
    "# same.shape"
   ]
  },
  {
   "cell_type": "code",
   "execution_count": null,
   "metadata": {},
   "outputs": [],
   "source": [
    "# geometry = geometry[same]\n",
    "# hamiltonians = hamiltonians[same]\n",
    "# distance_matrix[same]\n",
    "# print(geometry)"
   ]
  },
  {
   "cell_type": "code",
   "execution_count": null,
   "metadata": {},
   "outputs": [],
   "source": [
    "import matplotlib.pyplot as plt\n",
    "\n",
    "\n",
    "def imshow(x, v):\n",
    "    plt.imshow(x.numpy(), vmin=-v, vmax=v, cmap=\"bwr\")"
   ]
  },
  {
   "cell_type": "code",
   "execution_count": null,
   "metadata": {},
   "outputs": [],
   "source": [
    "scalars = [0, 1, 2, 14 + 0, 14 + 1, 14 + 5 + 0, 14 + 5 + 1]\n",
    "vectors = [3, 4, 5, 6, 7, 8, 14 + 2, 14 + 3, 14 + 4, 14 + 5 + 2, 14 + 5 + 3, 14 + 5 + 4]\n",
    "rep5 = [9, 10, 11, 12, 13]\n",
    "\n",
    "imshow(hamiltonians.std(0)[scalars], 1e-1)\n",
    "# sss pp d ss p ss p"
   ]
  },
  {
   "cell_type": "code",
   "execution_count": null,
   "metadata": {},
   "outputs": [],
   "source": [
    "def get_abc(pts):\n",
    "    opts = pts\n",
    "    pts = pts - pts[0]\n",
    "    a, b = e3nn.o3.xyz_to_angles(pts[1])\n",
    "    pts = pts @ e3nn.o3.angles_to_matrix(a, b, torch.tensor(0).type(torch.float64))\n",
    "    c = torch.atan2(pts[2][0], pts[2][2])\n",
    "    pts = pts @ e3nn.o3.matrix_y(c)\n",
    "    \n",
    "    target = torch.tensor(\n",
    "        [[ 0.0000e+00,  0.0000e+00,  0.0000e+00],\n",
    "        [ 1.5664e-18,  1.0078e+00, -2.6687e-18],\n",
    "        [-3.7204e-20, -2.1950e-01,  9.2139e-01]]\n",
    "    ).type(torch.float64) # replace this with a sample from the dataset\n",
    "    opts = opts - opts[0]\n",
    "    opts = opts.transpose(1, 0)\n",
    "    assert torch.allclose(e3nn.o3.angles_to_matrix(a, b, c)@target.transpose(1, 0), opts, atol=1e-3)\n",
    "\n",
    "    return a, b, c"
   ]
  },
  {
   "cell_type": "code",
   "execution_count": null,
   "metadata": {},
   "outputs": [],
   "source": [
    "def infer_change_of_basis(originals, rotated, reps, eps=1e-5):\n",
    "    As = []\n",
    "    for v0, v1, D in zip(originals, rotated, reps):\n",
    "        d = len(D)\n",
    "        A = torch.einsum(\"ij,k->ijk\", (D, v0)) - torch.einsum(\n",
    "            \"ij,k->ijk\", (torch.eye(d), v1)\n",
    "        )\n",
    "        As.append(A.view(d, -1))\n",
    "    A = torch.cat(As, 0)\n",
    "    Q = null_space(A.numpy(), epsilon=1e-5) * d ** 0.5\n",
    "    assert len(Q) == 1, Q.shape\n",
    "    return Q[0].reshape(d, d)"
   ]
  },
  {
   "cell_type": "markdown",
   "metadata": {},
   "source": [
    "## Infer the change of basis for l=1"
   ]
  },
  {
   "cell_type": "code",
   "execution_count": null,
   "metadata": {},
   "outputs": [],
   "source": [
    "Rref = e3nn.o3.angles_to_matrix(*get_abc(geometry[0]))\n",
    "\n",
    "reps = []\n",
    "for i in range(0, len(geometry)):\n",
    "    R = (\n",
    "        e3nn.o3.angles_to_matrix(*get_abc(geometry[i])) @ Rref.T\n",
    "    )  # rotation from ref -> to i\n",
    "    a, b, c = e3nn.o3.matrix_to_angles(R)\n",
    "    reps.append(e3nn.o3.wigner_D(1, a, b, c))\n",
    "\n",
    "for v in [vectors[:3], vectors[3:6], vectors[6:9], vectors[9:12]]:\n",
    "    originals = [hamiltonians[0, scalars[1], v]] * len(reps)\n",
    "    rotated = hamiltonians[:, scalars[1], v]\n",
    "    Q = infer_change_of_basis(originals, rotated, reps, eps=1e-5)\n",
    "    print(Q)"
   ]
  },
  {
   "cell_type": "markdown",
   "metadata": {},
   "source": [
    "## Infer the change of basis for l=2"
   ]
  },
  {
   "cell_type": "code",
   "execution_count": null,
   "metadata": {},
   "outputs": [],
   "source": [
    "Rref = e3nn.o3.angles_to_matrix(*get_abc(geometry[0]))\n",
    "\n",
    "reps = []\n",
    "for i in range(0, len(geometry)):\n",
    "    R = (\n",
    "        e3nn.o3.angles_to_matrix(*get_abc(geometry[i])) @ Rref.t()\n",
    "    )  # rotation from ref -> to i\n",
    "    a, b, c = e3nn.o3.matrix_to_angles(R)\n",
    "    reps.append(e3nn.o3.wigner_D(2, a, b, c))\n",
    "\n",
    "originals = [hamiltonians[0, scalars[1], rep5]] * len(reps)\n",
    "rotated = hamiltonians[:, scalars[1], rep5]\n",
    "Q = infer_change_of_basis(originals, rotated, reps, eps=1e-5)\n",
    "\n",
    "print(Q)"
   ]
  },
  {
   "cell_type": "code",
   "execution_count": null,
   "metadata": {},
   "outputs": [],
   "source": [
    "from fractions import Fraction\n",
    "\n",
    "Fraction(Q[2, 3] ** 2).limit_denominator(100)"
   ]
  },
  {
   "cell_type": "markdown",
   "metadata": {},
   "source": [
    "# Sanity check"
   ]
  },
  {
   "cell_type": "code",
   "execution_count": null,
   "metadata": {},
   "outputs": [],
   "source": [
    "# sss pp d ss p ss p\n",
    "S = torch.ones(1, 1)\n",
    "P = torch.tensor([[0, 1., 0], [0, 0, 1], [1, 0, 0]])\n",
    "D = torch.tensor(\n",
    "    [\n",
    "        [0, 1, 0, 0, 0.0],\n",
    "        [0, 0, 0, 0, 1],\n",
    "        [-0.5, 0, 0, -(3 / 4) ** 0.5, 0],\n",
    "        [0, 0, 1, 0, 0],\n",
    "        [((3 / 4) ** 0.5), 0, 0, -0.5, 0],\n",
    "    ]\n",
    ")\n",
    "\n",
    "M = e3nn.math.direct_sum(S, S, S, P, P, D, S, S, P, S, S, P)\n",
    "assert torch.allclose(M.T @ M, torch.eye(M.shape[0]), atol=1e-3)\n",
    "assert torch.allclose(M @ M.T, torch.eye(M.shape[0]), atol=1e-3)\n",
    "M=M.type(torch.float64)"
   ]
  },
  {
   "cell_type": "code",
   "execution_count": null,
   "metadata": {},
   "outputs": [],
   "source": [
    "# sss pp d ss p ss p\n",
    "irreps = e3nn.o3.Irreps(\"3x0e + 2x1o + 1x2e + 2x0e + 1x1o + 2x0e + 1x1o\")\n",
    "\n",
    "rotated_geometry = []\n",
    "rotated_hamiltonians = []\n",
    "\n",
    "for i in range(0, len(geometry)):\n",
    "    a, b, c = get_abc(geometry[i])\n",
    "    R = e3nn.o3.angles_to_matrix(a, b, c)\n",
    "    pos = geometry[i]\n",
    "    pos = pos - pos[0]\n",
    "    rotated_geometry.append(pos@R)\n",
    "\n",
    "    D = irreps.D_from_angles(a, b, c)\n",
    "    H = M @ hamiltonians[i] @ M.T  # change of basis from hamiltonian's original basis to e3nn basis\n",
    "    rotated_hamiltonians.append(D.T @ H @ D)  # apply rotation to the hamiltonian\n",
    "\n",
    "rotated_geometry = torch.stack(rotated_geometry)\n",
    "rotated_hamiltonians = torch.stack(rotated_hamiltonians)"
   ]
  },
  {
   "cell_type": "code",
   "execution_count": null,
   "metadata": {},
   "outputs": [],
   "source": [
    "# all positions are sent to the same positions => this must be small:\n",
    "rotated_geometry.std(0)"
   ]
  },
  {
   "cell_type": "code",
   "execution_count": null,
   "metadata": {},
   "outputs": [],
   "source": [
    "# Same for the hamiltonians, this must be small:\n",
    "rotated_hamiltonians.std(0).abs().max()"
   ]
  },
  {
   "cell_type": "code",
   "execution_count": null,
   "metadata": {},
   "outputs": [],
   "source": [
    "vec = torch.tensor([-1., 0, 0])\n",
    "a, b = e3nn.o3.xyz_to_angles(vec)"
   ]
  },
  {
   "cell_type": "code",
   "execution_count": null,
   "metadata": {},
   "outputs": [],
   "source": []
  }
 ],
 "metadata": {
  "interpreter": {
   "hash": "b5e6a81650e2ec12c36e53f44b5573c56b5183943fab134b82eca30c58c300d8"
  },
  "kernelspec": {
   "display_name": "Python 3 (ipykernel)",
   "language": "python",
   "name": "python3"
  },
  "language_info": {
   "codemirror_mode": {
    "name": "ipython",
    "version": 3
   },
   "file_extension": ".py",
   "mimetype": "text/x-python",
   "name": "python",
   "nbconvert_exporter": "python",
   "pygments_lexer": "ipython3",
   "version": "3.8.10"
  }
 },
 "nbformat": 4,
 "nbformat_minor": 4
}
