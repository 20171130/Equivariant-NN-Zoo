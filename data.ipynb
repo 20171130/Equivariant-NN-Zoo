{
 "cells": [
  {
   "cell_type": "markdown",
   "id": "59cc6138-4f31-430b-88b1-8cb540668dc3",
   "metadata": {},
   "source": [
    "# Convertion to Batch, and Save as HDF5 Dataset"
   ]
  },
  {
   "cell_type": "code",
   "execution_count": null,
   "id": "30c2e55c-b76d-43d8-91a2-f43af54edd25",
   "metadata": {},
   "outputs": [],
   "source": [
    "%load_ext autoreload\n",
    "%autoreload 2\n",
    "import h5py\n",
    "import os\n",
    "import torch\n",
    "import numpy as np\n",
    "from tqdm import tqdm, trange\n",
    "import ase\n",
    "from e3nn import o3\n",
    "from e3nn.o3 import Irreps\n",
    "from e3_layers.data import Batch"
   ]
  },
  {
   "cell_type": "markdown",
   "id": "42209912-1668-4074-9a5a-2de14122486c",
   "metadata": {},
   "source": [
    "## Hamiltonian From ASE DB to Batch"
   ]
  },
  {
   "cell_type": "code",
   "execution_count": null,
   "id": "b78f1655-b920-4d01-bd34-2c74783138dc",
   "metadata": {},
   "outputs": [],
   "source": [
    "#!/usr/bin/env python3\n",
    "import numpy as np\n",
    "from base64 import b64decode\n",
    "from ase.db import connect\n",
    "\n",
    "db = connect('../wavefunc/schnorb_hamiltonian_water.db')\n",
    "\n",
    "lst = []\n",
    "for i, row in enumerate(db.select()):\n",
    "    if i % 100 == 0:\n",
    "        print(i)\n",
    "    Z = row['numbers']\n",
    "    R = row['positions']#*1.8897261258369282 donot convert angstrom to bohr\n",
    "    E = row.data['energy']\n",
    "    F = row.data['forces']\n",
    "    H = row.data['hamiltonian'].reshape(-1)\n",
    "    S = row.data['overlap']\n",
    "    species = np.array([8, 1, 1], dtype=np.int32).reshape(-1, 1)\n",
    "    lst += [ dict(pos=R, energy=E, forces=F, hamiltonian=H, species=species)]"
   ]
  },
  {
   "cell_type": "code",
   "execution_count": null,
   "id": "ec2aa56e-355b-4a51-9c03-21092b098e18",
   "metadata": {},
   "outputs": [],
   "source": [
    "import numpy as np\n",
    "from e3_layers.data import Batch\n",
    "path = 'h2o.hdf5'\n",
    "attrs = {}\n",
    "attrs['pos'] = ('node', '1x1o')\n",
    "attrs['species'] = ('node', '1x0e')\n",
    "attrs['energy'] = ('graph', '1x0e')\n",
    "attrs['forces'] = ('node', '1x1o')\n",
    "attrs['hamiltonian'] = ('graph', 24*24)\n",
    "\n",
    "batch = Batch.from_data_list(lst, attrs)\n",
    "batch.dumpHDF5(path)"
   ]
  },
  {
   "cell_type": "markdown",
   "id": "9c222ae3-7e41-487b-97a7-e534cbef98e8",
   "metadata": {},
   "source": [
    "## Multipole from HDF5 to Batch"
   ]
  },
  {
   "cell_type": "code",
   "execution_count": null,
   "id": "814233dc-0d94-4923-a0b9-6566d8e6f1d6",
   "metadata": {},
   "outputs": [],
   "source": [
    "from functools import lru_cache\n",
    "import pickle\n",
    "\n",
    "\n",
    "@lru_cache(maxsize=None)\n",
    "def get_clebsch_gordon(i: int, j: int, k: int, device):\n",
    "    return o3.wigner_3j(i, j, k, dtype=torch.float64, device=device).numpy()\n",
    "\n",
    "def irreps2matrix(a, b, c):\n",
    "    device = 'cpu'\n",
    "    irreps = [a, b, c] # degree 0, 1, 2\n",
    "    result = 0\n",
    "    for i in range(3):\n",
    "        basis = o3.wigner_3j(1, 1, i, device=device)\n",
    "        result += basis@irreps[i]\n",
    "    return result\n",
    "\n",
    "def matrix2irreps(m):\n",
    "    device = 'cpu'\n",
    "    irreps = [] # degree 0, 1, 2\n",
    "    for i in range(3):\n",
    "        basis = o3.wigner_3j(1, 1, i, device=device)\n",
    "        irreps += [np.einsum(\"ijc,ijk->kc\", m, basis)]\n",
    "    return irreps\n",
    "\n",
    "tmp_path = \"multipole.pickle\"\n",
    "if os.path.isfile(tmp_path):\n",
    "    with open(tmp_path, \"rb\") as file:\n",
    "        coord, species, dipoles, quadrupoles = pickle.load(file)\n",
    "else:\n",
    "    paths = ['multipole_gdb.hdf5', 'multipole_chembl.hdf5']\n",
    "    coord = []\n",
    "    species = []\n",
    "    dipoles = []\n",
    "    quadrupoles = []\n",
    "    for path in paths:\n",
    "        with h5py.File(path, \"r\") as f:\n",
    "            for i, key in enumerate(tqdm(f.keys())):\n",
    "                mol = f[key]\n",
    "                tmp = mol['dipoles'][:]\n",
    "                if tmp.shape[0]==0:\n",
    "                    continue\n",
    "                coord += [mol['coordinates'][:]]\n",
    "                species += [mol['elements'][:]]\n",
    "                dipoles += [tmp]\n",
    "                quadrupoles += [mol['quadrupoles'][:]]\n",
    "\n",
    "    with open(tmp_path, \"wb\") as f:\n",
    "        pickle.dump([coord, species, dipoles, quadrupoles], f)\n",
    "        \n",
    "def reflect(x):\n",
    "    size, _ = x.shape\n",
    "    x = x.transpose(1, 0)\n",
    "    y = np.zeros((3, 3, size))\n",
    "    y[0,0] = x[0]\n",
    "    y[0,1], y[1, 0]=x[1], x[1]\n",
    "    y[0,2],y[2,0]=x[2], x[2]\n",
    "    y[1,1]=x[3]\n",
    "    y[1,2], y[2,1]=x[4], x[4]\n",
    "    y[2, 2]=x[5]\n",
    "    return y #[3, 3, n]"
   ]
  },
  {
   "cell_type": "code",
   "execution_count": null,
   "id": "09817d42-1513-4fdc-a879-c49a56be2023",
   "metadata": {},
   "outputs": [],
   "source": [
    "cnt = len(coord)\n",
    "print(cnt)\n",
    "table = ['H', 'He', 'Li', 'Be', 'B', 'C', 'N', 'O', 'F', 'Ne']\n",
    "table += ['Na', 'Mg', 'Al', 'Si', 'P', 'S', 'CL', 'Ar']\n",
    "symbol2idx = {table[i]:i+1 for i in range(len(table))}\n",
    "lst = []\n",
    "for i in tqdm(range(cnt)):\n",
    "    cur_size = coord[i].shape[0]\n",
    "    pos = coord[i]\n",
    "    symbols = np.zeros((cur_size,), dtype=int)\n",
    "    for j,item in enumerate(species[i]):\n",
    "        symbols[j] = symbol2idx[item.decode(\"utf-8\")]\n",
    "    dipole = dipoles[i]\n",
    "    result = matrix2irreps(reflect(quadrupoles[i]))\n",
    "    quadrupole_0 = result[0].transpose(1, 0)\n",
    "    quadrupole_2 = result[2].transpose(1, 0)\n",
    "    lst.append({'pos': pos, 'atom_types': symbols, 'dipole': dipole, 'quadrupole_0': quadrupole_0, 'quadrupole_2':quadrupole_2})"
   ]
  },
  {
   "cell_type": "code",
   "execution_count": null,
   "id": "ae2ff532-944d-4937-bdd0-03e2ddaf226b",
   "metadata": {},
   "outputs": [],
   "source": [
    "from e3_layers.data import Batch\n",
    "path = 'multipole.hdf5'\n",
    "attrs = {}\n",
    "attrs['pos'] = ('node', '1x1o')\n",
    "attrs['atom_types'] = ('node', '1x0e')\n",
    "attrs['dipole'] = ('node', '1x1o')\n",
    "attrs['quadrupole_0'] = ('node', '1x0e')\n",
    "attrs['quadrupole_2'] = ('node', '1x2e')\n",
    "\n",
    "batch = Batch.from_data_list(lst, attrs)\n",
    "batch.dumpHDF5(path)"
   ]
  },
  {
   "cell_type": "markdown",
   "id": "9d9e9d8c-abf7-4d7d-b354-327175cc6c84",
   "metadata": {},
   "source": [
    "## QM9 from npz to Batch"
   ]
  },
  {
   "cell_type": "code",
   "execution_count": null,
   "id": "13310249-3515-4d8b-a8b6-f8420d0a4773",
   "metadata": {},
   "outputs": [],
   "source": [
    "npz = np.load('qm9_edge.npz')"
   ]
  },
  {
   "cell_type": "code",
   "execution_count": null,
   "id": "807441e9-54c1-4300-abb3-d30c4f30e3af",
   "metadata": {},
   "outputs": [],
   "source": [
    "from e3_layers.data import Batch\n",
    "path = 'qm9.hdf5'\n",
    "attrs = {}\n",
    "\n",
    "attrs['R'] = ('node', '1x1o')\n",
    "attrs['Z'] = ('node', '1x0e')\n",
    "attrs['U0'] = ('graph', '1x0e')\n",
    "attrs['U'] = ('graph', '1x0e')\n",
    "attrs['_n_nodes'] = ('graph', '1x0e')\n",
    "\n",
    "dic = {}\n",
    "dic['Z'] = npz['node_attr'][:, 5].astype(np.int64)\n",
    "dic['U0'] = npz['targets'][:, 7]\n",
    "dic['U'] = npz['targets'][:, 8]\n",
    "dic['R'] = npz['node_pos']\n",
    "dic['_n_nodes'] = npz['n_node']\n",
    "\n",
    "batch = Batch(attrs, **dic)\n",
    "batch.dumpHDF5(path)"
   ]
  },
  {
   "cell_type": "markdown",
   "id": "2a614818-b1ad-47a6-abcb-bc606eb22a65",
   "metadata": {},
   "source": [
    "## From Padded HDF5 to Batch"
   ]
  },
  {
   "cell_type": "code",
   "execution_count": null,
   "id": "905f82e5-4b1d-428b-b817-cc2d91afa36e",
   "metadata": {},
   "outputs": [],
   "source": [
    "path  = 'proteintopo.hdf5'\n",
    "import h5py\n",
    "f = h5py.File(path, \"r\")"
   ]
  },
  {
   "cell_type": "code",
   "execution_count": null,
   "id": "77411b79-0bcb-41d1-8f96-77ebdd2430e9",
   "metadata": {},
   "outputs": [],
   "source": [
    "cnt = f['coord'].shape[0]\n",
    "lst = []\n",
    "for i in range(cnt):\n",
    "    dic = {}\n",
    "    n_nodes = sum(f['species'][i]>0)\n",
    "    dic['coord'] = f['coord'][i, :n_nodes]\n",
    "    dic['dipole'] = f['dipole'][i, :n_nodes]\n",
    "    dic['species'] = f['species'][i, :n_nodes]\n",
    "    dic['quadrupole_2'] = f['quadrupole_2'][i, :n_nodes]\n",
    "    n_edges = sum(f['edge_indexs'][i, 0]>-1)\n",
    "    dic['bond_orders'] = f['bond_orders'][i, :n_edges]\n",
    "    dic['edge_index'] = f['edge_indexs'][i, :, :n_edges]\n",
    "    lst.append(dic)"
   ]
  },
  {
   "cell_type": "code",
   "execution_count": null,
   "id": "889d6197-cca8-4fe8-851f-bb87d0e7ad5c",
   "metadata": {},
   "outputs": [],
   "source": [
    "attrs = {}\n",
    "attrs['coord'] = ('node', '1x1o')\n",
    "attrs['dipole'] = ('node', '1x1o')\n",
    "attrs['species'] = ('node', '1x0e')\n",
    "attrs['quadrupole_2'] = ('node', '1x2e')\n",
    "attrs['bond_orders'] = ('edge', '1x0e')"
   ]
  },
  {
   "cell_type": "code",
   "execution_count": null,
   "id": "0739990f-778c-4206-acbd-e78634be52ef",
   "metadata": {},
   "outputs": [],
   "source": [
    "dic['edge_index'].shape"
   ]
  },
  {
   "cell_type": "code",
   "execution_count": null,
   "id": "9f527469-938f-4133-97ab-8974fcfe8e9d",
   "metadata": {},
   "outputs": [],
   "source": [
    "batch = Batch.from_data_list(lst, attrs)\n",
    "batch.dumpHDF5('protein_topo.hdf5')"
   ]
  },
  {
   "cell_type": "markdown",
   "id": "0b116f71-3aea-4aab-851c-80eada9cd514",
   "metadata": {},
   "source": [
    "## From PDB to Batch \n",
    "As a minimal approximation, only considers C-alpha atoms."
   ]
  },
  {
   "cell_type": "code",
   "execution_count": null,
   "id": "37e50c81-1857-489d-9988-5ca2dea1ebe9",
   "metadata": {},
   "outputs": [],
   "source": [
    "aa_names = {'CYS': 'C', 'ASP': 'D', 'SER': 'S', 'GLN': 'Q', 'LYS': 'K',\n",
    "     'ILE': 'I', 'PRO': 'P', 'THR': 'T', 'PHE': 'F', 'ASN': 'N', \n",
    "     'GLY': 'G', 'HIS': 'H', 'LEU': 'L', 'ARG': 'R', 'TRP': 'W', \n",
    "     'ALA': 'A', 'VAL':'V', 'GLU': 'E', 'TYR': 'Y', 'MET': 'M'}\n",
    "aa_ids = {key:i for i, key in enumerate(aa_names.keys())}\n",
    "def name2id(x):\n",
    "    return aa_ids[x] + 1"
   ]
  },
  {
   "cell_type": "code",
   "execution_count": null,
   "id": "6d559b7b-b0ce-46a7-b549-2b85eae8b6c8",
   "metadata": {},
   "outputs": [],
   "source": [
    "path = 'sampling_result'\n",
    "proteins = []\n",
    "for root, dirs, files in tqdm(os.walk(path)):\n",
    "    for file in files:\n",
    "        if not file.split('.')[-1] == 'pdb':\n",
    "            continue\n",
    "        with open(os.path.join(root, file)) as file:\n",
    "            lines = file.readlines()\n",
    "            cnt = 0\n",
    "            aa_types = []\n",
    "            coords = []\n",
    "            for line in lines:\n",
    "                if len(line)>=20 and line[13:15] == 'CA':\n",
    "                    aa_type = line[17:20]\n",
    "                    x, y, z = line[30:38], line[38:46], line[46:54]\n",
    "                    aa_types.append(name2id(aa_type))\n",
    "                    coords.append([float(x), float(y), float(z)])\n",
    "                    cnt += 1\n",
    "        file = {'_n_nodes': cnt, 'aa_type': np.array(aa_types), 'pos': np.array(coords)}\n",
    "        proteins += [file]"
   ]
  },
  {
   "cell_type": "code",
   "execution_count": null,
   "id": "e9b87148-50a6-4b47-be9c-aaf9da21278d",
   "metadata": {},
   "outputs": [],
   "source": [
    "path = 'antibody.hdf5'\n",
    "attrs = {}\n",
    "attrs['pos'] = ('node', '1x1o')\n",
    "attrs['aa_type'] = ('node', '1x0e')\n",
    "attrs['_n_nodes'] = ('graph', '1x0e')\n",
    "\n",
    "batch = Batch.from_data_list(proteins, attrs)\n",
    "batch.dumpHDF5(path)"
   ]
  },
  {
   "cell_type": "code",
   "execution_count": null,
   "id": "2ed3bfaf-6b71-432b-b4dc-1a8304b622b4",
   "metadata": {},
   "outputs": [],
   "source": [
    "len(proteins)"
   ]
  },
  {
   "cell_type": "markdown",
   "id": "e0a397cb-c90b-45df-a248-60ff6a8547e9",
   "metadata": {},
   "source": [
    "# Reading HDF5"
   ]
  },
  {
   "cell_type": "code",
   "execution_count": null,
   "id": "90d9dce1-0e69-4e5b-a97d-81c7f13f8672",
   "metadata": {},
   "outputs": [],
   "source": [
    "path  = 'antibody.hdf5'\n",
    "import h5py\n",
    "f = h5py.File(path, \"r\")"
   ]
  },
  {
   "cell_type": "code",
   "execution_count": null,
   "id": "19cedb94-1190-44cf-88d7-e6d8dd7a45be",
   "metadata": {},
   "outputs": [],
   "source": [
    "f.keys()"
   ]
  },
  {
   "cell_type": "code",
   "execution_count": null,
   "id": "a9ac2908-5530-4bd6-91b2-016287e03aba",
   "metadata": {},
   "outputs": [],
   "source": [
    "f.close()"
   ]
  },
  {
   "cell_type": "markdown",
   "id": "0afea773-ba05-4d7a-8884-e1b8543de45d",
   "metadata": {},
   "source": [
    "# Compute Statistics"
   ]
  },
  {
   "cell_type": "code",
   "execution_count": null,
   "id": "e952bd12-bb97-4c7d-a588-06d24d6edde8",
   "metadata": {},
   "outputs": [],
   "source": [
    "from e3_layers.data import CondensedDataset"
   ]
  },
  {
   "cell_type": "code",
   "execution_count": null,
   "id": "00223ad8-9229-4b08-922a-7713c038fd51",
   "metadata": {},
   "outputs": [],
   "source": [
    "type_names = list(ase.atom.atomic_numbers.keys())[: 20]\n",
    "ds = CondensedDataset('qm9.hdf5', type_names=type_names)"
   ]
  },
  {
   "cell_type": "markdown",
   "id": "92f12594-7730-4228-930d-97ffab5eca0e",
   "metadata": {},
   "source": [
    "## Atom Reference Energy"
   ]
  },
  {
   "cell_type": "code",
   "execution_count": null,
   "id": "29c045bb-2b12-4bc3-a9bb-8cff7c14ef1d",
   "metadata": {},
   "outputs": [],
   "source": [
    "ds.statistics(['energy-per-species-mean_std'], stride=10)"
   ]
  },
  {
   "cell_type": "markdown",
   "id": "0e1c8d19-37f3-4dd7-9a89-3082ba42931e",
   "metadata": {},
   "source": [
    "## Position std"
   ]
  },
  {
   "cell_type": "code",
   "execution_count": null,
   "id": "5beca3c0-d738-4e6e-b80e-0f5a34be0b64",
   "metadata": {},
   "outputs": [],
   "source": [
    "from torch_runstats.scatter import scatter"
   ]
  },
  {
   "cell_type": "code",
   "execution_count": null,
   "id": "f1b53456-637a-43e3-a1e9-3876de25bd37",
   "metadata": {},
   "outputs": [],
   "source": [
    "def std(x):\n",
    "    return ((x*x).sum(dim=1).mean(dim=0))**0.5"
   ]
  },
  {
   "cell_type": "code",
   "execution_count": null,
   "id": "5b7f9cc9-b20a-47a0-b72f-974b3e9efb58",
   "metadata": {},
   "outputs": [],
   "source": [
    "node_segment = ds.nodeSegment()\n",
    "center = scatter(ds['R'], node_segment, dim=0, reduce='sum')\n",
    "center = center/ds['_n_nodes']\n",
    "pos = ds['R'] - center[node_segment]\n",
    "std(pos)"
   ]
  }
 ],
 "metadata": {
  "kernelspec": {
   "display_name": "Python 3 (ipykernel)",
   "language": "python",
   "name": "python3"
  },
  "language_info": {
   "codemirror_mode": {
    "name": "ipython",
    "version": 3
   },
   "file_extension": ".py",
   "mimetype": "text/x-python",
   "name": "python",
   "nbconvert_exporter": "python",
   "pygments_lexer": "ipython3",
   "version": "3.8.10"
  }
 },
 "nbformat": 4,
 "nbformat_minor": 5
}
