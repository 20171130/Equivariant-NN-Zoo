{
 "cells": [
  {
   "cell_type": "markdown",
   "metadata": {},
   "source": [
    "# Using E3_layers with TorchMD\n",
    "This notebook is modified based on the official torchMD examples: https://github.com/torchmd/torchmd."
   ]
  },
  {
   "cell_type": "markdown",
   "metadata": {},
   "source": [
    "## System setup"
   ]
  },
  {
   "cell_type": "markdown",
   "metadata": {},
   "source": [
    "We use the `moleculekit` library for reading the input topologies and starting coordinates"
   ]
  },
  {
   "cell_type": "code",
   "execution_count": null,
   "metadata": {},
   "outputs": [],
   "source": [
    "from moleculekit.molecule import Molecule\n",
    "import os\n",
    "\n",
    "testdir = \"../torchmd/test-data/prod_alanine_dipeptide_amber/\"\n",
    "mol = Molecule(os.path.join(testdir, \"structure.prmtop\"))  # Reading the system topology\n",
    "mol.read(os.path.join(testdir, \"input.coor\"))  # Reading the initial simulation coordinates\n",
    "mol.read(os.path.join(testdir, \"input.xsc\"))  # Reading the box dimensions"
   ]
  },
  {
   "cell_type": "markdown",
   "metadata": {},
   "source": [
    "Next we will load a forcefield file and use the above topology to extract the relevant parameters which will be used for the simulation"
   ]
  },
  {
   "cell_type": "code",
   "execution_count": null,
   "metadata": {},
   "outputs": [],
   "source": [
    "from torchmd.forcefields.forcefield import ForceField\n",
    "from torchmd.parameters import Parameters\n",
    "import torch\n",
    "\n",
    "precision = torch.float\n",
    "device = torch.device(\"cuda:0\")\n",
    "\n",
    "ff = ForceField.create(mol, os.path.join(testdir, \"structure.prmtop\"))\n",
    "parameters = Parameters(ff, mol, precision=precision, device=device)"
   ]
  },
  {
   "cell_type": "markdown",
   "metadata": {},
   "source": [
    "Now we can create a `System` object which will contain the state of the system during the simulation, including:\n",
    "1. The current atom coordinates\n",
    "1. The current box size\n",
    "1. The current atom velocities\n",
    "1. The current atom forces"
   ]
  },
  {
   "cell_type": "code",
   "execution_count": null,
   "metadata": {},
   "outputs": [],
   "source": [
    "from torchmd.integrator import maxwell_boltzmann\n",
    "from torchmd.systems import System\n",
    "\n",
    "system = System(mol.numAtoms, nreplicas=1, precision=precision, device=device)\n",
    "system.set_positions(mol.coords)\n",
    "system.set_box(mol.box)\n",
    "system.set_velocities(maxwell_boltzmann(parameters.masses, T=300, replicas=1))"
   ]
  },
  {
   "cell_type": "markdown",
   "metadata": {},
   "source": [
    "Lastly we will create a `Force` object which will be used to evaluate the potential on a given `System` state"
   ]
  },
  {
   "cell_type": "code",
   "execution_count": null,
   "metadata": {},
   "outputs": [],
   "source": [
    "from e3_layers.utils import build\n",
    "from e3_layers import configs\n",
    "from e3_layers.data import Batch, computeEdgeIndex\n",
    "\n",
    "class MyClass():\n",
    "    def __init__(self, config, atom_types, parameters, r_max=None):\n",
    "        self.par = parameters # information such as masses, used by the integrator\n",
    "        self.atom_types = atom_types\n",
    "        self.model = build(config).to(device)\n",
    "        self.n_nodes = torch.ones((1, 1), dtype=torch.long)* atom_types.shape[0]\n",
    "        if r_max is None:\n",
    "            self.r_max = config.r_max\n",
    "        else:\n",
    "            self.r_max = r_max\n",
    "        \n",
    "    def compute(self, pos, box, forces):\n",
    "        data = {'pos': pos[0], 'species': self.atom_types, '_n_nodes': self.n_nodes}\n",
    "        attrs = {'pos': ('node', '1x1o'), 'species': ('node','1x0e')}\n",
    "        batch = Batch(attrs, **data).to(device)\n",
    "        batch = computeEdgeIndex(batch, r_max=self.r_max)\n",
    "        batch = self.model(batch)\n",
    "        forces[0, :] = batch['forces'].detach()\n",
    "        return [batch['energy'].item()]\n",
    "    \n",
    "config = configs.config_energy_force().model_config\n",
    "config.n_dim = 32 # to prevent OOM\n",
    "atom_types = parameters.mapped_atom_types \n",
    "# Usually there should be some conversion, if unmapped atom types are used during training\n",
    "forces = MyClass(config, atom_types, parameters)"
   ]
  },
  {
   "cell_type": "code",
   "execution_count": null,
   "metadata": {},
   "outputs": [],
   "source": [
    "state_dict = torch.load(model_path, map_location=device)\n",
    "model_state_dict = {}\n",
    "for key, value in state_dict.items():\n",
    "    if key[:7] == 'module.': # remove DDP wrappers\n",
    "        key = key[7:]\n",
    "    model_state_dict[key] = value\n",
    "forces.model.load_state_dict(model_state_dict)"
   ]
  },
  {
   "cell_type": "markdown",
   "metadata": {},
   "source": [
    "## Dynamics"
   ]
  },
  {
   "cell_type": "markdown",
   "metadata": {},
   "source": [
    "For performing the dynamics we will create an `Integrator` object for integrating the time steps of the simulation as well as a `Wrapper` object for wrapping the system coordinates within the periodic cell"
   ]
  },
  {
   "cell_type": "code",
   "execution_count": null,
   "metadata": {},
   "outputs": [],
   "source": [
    "from torchmd.integrator import Integrator\n",
    "from torchmd.wrapper import Wrapper\n",
    "\n",
    "langevin_temperature = 300  # K\n",
    "langevin_gamma = 0.1\n",
    "timestep = 1  # fs\n",
    "\n",
    "integrator = Integrator(system, forces, timestep, device, gamma=langevin_gamma, T=langevin_temperature)\n",
    "wrapper = Wrapper(mol.numAtoms, mol.bonds if len(mol.bonds) else None, device)"
   ]
  },
  {
   "cell_type": "code",
   "execution_count": null,
   "metadata": {},
   "outputs": [],
   "source": [
    "from torchmd.minimizers import minimize_bfgs\n",
    "\n",
    "minimize_bfgs(system, forces, steps=500)  # Minimize the system"
   ]
  },
  {
   "cell_type": "markdown",
   "metadata": {},
   "source": [
    "Create a CSV file logger for the simulation which keeps track of the energies and temperature."
   ]
  },
  {
   "cell_type": "code",
   "execution_count": null,
   "metadata": {},
   "outputs": [],
   "source": [
    "from torchmd.utils import LogWriter\n",
    "\n",
    "logger = LogWriter(path=\"logs/\", keys=('iter','ns','epot','ekin','etot','T'), name='monitor.csv')"
   ]
  },
  {
   "cell_type": "markdown",
   "metadata": {},
   "source": [
    "Now we can finally perform the full dynamics"
   ]
  },
  {
   "cell_type": "code",
   "execution_count": null,
   "metadata": {},
   "outputs": [],
   "source": [
    "from tqdm import tqdm \n",
    "import numpy as np\n",
    "\n",
    "FS2NS = 1E-6 # Femtosecond to nanosecond conversion\n",
    "\n",
    "steps = 1000\n",
    "output_period = 10\n",
    "save_period = 100\n",
    "traj = []\n",
    "\n",
    "trajectoryout = \"mytrajectory.npy\"\n",
    "\n",
    "iterator = tqdm(range(1, int(steps / output_period) + 1))\n",
    "Epot = forces.compute(system.pos, system.box, system.forces)\n",
    "for i in iterator:\n",
    "    Ekin, Epot, T = integrator.step(niter=output_period)\n",
    "    wrapper.wrap(system.pos, system.box)\n",
    "    currpos = system.pos.detach().cpu().numpy().copy()\n",
    "    traj.append(currpos)\n",
    "    \n",
    "    if (i*output_period) % save_period  == 0:\n",
    "        np.save(trajectoryout, np.stack(traj, axis=2))\n",
    "\n",
    "    logger.write_row({'iter':i*output_period,'ns':FS2NS*i*output_period*timestep,'epot':Epot,'ekin':Ekin,'etot':Epot+Ekin,'T':T})"
   ]
  },
  {
   "cell_type": "code",
   "execution_count": null,
   "metadata": {},
   "outputs": [],
   "source": []
  }
 ],
 "metadata": {
  "kernelspec": {
   "display_name": "Python 3 (ipykernel)",
   "language": "python",
   "name": "python3"
  },
  "language_info": {
   "codemirror_mode": {
    "name": "ipython",
    "version": 3
   },
   "file_extension": ".py",
   "mimetype": "text/x-python",
   "name": "python",
   "nbconvert_exporter": "python",
   "pygments_lexer": "ipython3",
   "version": "3.8.10"
  }
 },
 "nbformat": 4,
 "nbformat_minor": 4
}
